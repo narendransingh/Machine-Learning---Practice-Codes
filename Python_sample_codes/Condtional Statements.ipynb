{
 "cells": [
  {
   "cell_type": "markdown",
   "metadata": {},
   "source": [
    "# IF - ELSE - ELIF Statements"
   ]
  },
  {
   "cell_type": "code",
   "execution_count": 6,
   "metadata": {},
   "outputs": [
    {
     "name": "stdout",
     "output_type": "stream",
     "text": [
      "6 is greater than 4\n"
     ]
    }
   ],
   "source": [
    "a=6\n",
    "b=4\n",
    "if (a>b):\n",
    "    print (a,'is greater than', b)"
   ]
  },
  {
   "cell_type": "markdown",
   "metadata": {},
   "source": [
    "a=4\n",
    "b=6\n",
    "if (a>b):\n",
    "    print (a,'is greater tha', b)\n",
    "else:\n",
    "     print(a, 'is less than', b)"
   ]
  },
  {
   "cell_type": "code",
   "execution_count": 15,
   "metadata": {},
   "outputs": [
    {
     "name": "stdout",
     "output_type": "stream",
     "text": [
      "no condition matched\n"
     ]
    }
   ],
   "source": [
    "x=5\n",
    "if x==1:\n",
    "    print ('first code')\n",
    "elif x==2:\n",
    "    print ('second code')\n",
    "elif x==3:\n",
    "    print ('third code')\n",
    "elif x==4:\n",
    "    print ('fourth code')\n",
    "else:\n",
    "    print('no condition matched')"
   ]
  },
  {
   "cell_type": "code",
   "execution_count": 19,
   "metadata": {},
   "outputs": [
    {
     "name": "stdout",
     "output_type": "stream",
     "text": [
      "Sorry, this event for 20 below\n"
     ]
    }
   ],
   "source": [
    "#Nester if-else\n",
    "name= 'Paul'\n",
    "age = 21\n",
    "if age<20:\n",
    "    if name== 'Paul':\n",
    "        print ('Hi Paul, you are invite')\n",
    "    else:\n",
    "        print('Sorry we couldnt find your name')\n",
    "else:\n",
    "    print ('Sorry, this event for 20 below')\n",
    "    "
   ]
  },
  {
   "cell_type": "code",
   "execution_count": 22,
   "metadata": {},
   "outputs": [
    {
     "name": "stdout",
     "output_type": "stream",
     "text": [
      "0\n",
      "1\n",
      "2\n",
      "3\n",
      "4\n",
      "5\n",
      "6\n",
      "7\n",
      "8\n",
      "9\n"
     ]
    }
   ],
   "source": [
    "#While loop\n",
    "x=0\n",
    "while x<10:\n",
    "    print(x)\n",
    "    x+=1"
   ]
  },
  {
   "cell_type": "code",
   "execution_count": 25,
   "metadata": {},
   "outputs": [
    {
     "name": "stdout",
     "output_type": "stream",
     "text": [
      "john\n",
      "paul\n",
      "mike\n",
      "tom\n"
     ]
    }
   ],
   "source": [
    "#For Loop\n",
    "x=['john','paul','mike','tom']\n",
    "for  in x:\n",
    "    print (i)"
   ]
  },
  {
   "cell_type": "code",
   "execution_count": 27,
   "metadata": {},
   "outputs": [
    {
     "name": "stdout",
     "output_type": "stream",
     "text": [
      "0\n",
      "1\n",
      "2\n",
      "3\n"
     ]
    }
   ],
   "source": [
    "for i in range (len(x)):\n",
    "    print (i)"
   ]
  }
 ],
 "metadata": {
  "kernelspec": {
   "display_name": "Python 3",
   "language": "python",
   "name": "python3"
  },
  "language_info": {
   "codemirror_mode": {
    "name": "ipython",
    "version": 3
   },
   "file_extension": ".py",
   "mimetype": "text/x-python",
   "name": "python",
   "nbconvert_exporter": "python",
   "pygments_lexer": "ipython3",
   "version": "3.7.4"
  }
 },
 "nbformat": 4,
 "nbformat_minor": 2
}
