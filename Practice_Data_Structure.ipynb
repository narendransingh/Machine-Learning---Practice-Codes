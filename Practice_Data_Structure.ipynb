{
 "cells": [
  {
   "cell_type": "markdown",
   "metadata": {},
   "source": [
    "# PRACTICE LIST"
   ]
  },
  {
   "cell_type": "code",
   "execution_count": 4,
   "metadata": {},
   "outputs": [
    {
     "data": {
      "text/plain": [
       "list"
      ]
     },
     "execution_count": 4,
     "metadata": {},
     "output_type": "execute_result"
    }
   ],
   "source": [
    "my_list = [] # empty list\n",
    "type (my_list)"
   ]
  },
  {
   "cell_type": "code",
   "execution_count": 7,
   "metadata": {},
   "outputs": [],
   "source": [
    "my_list =[1,2,3] #list of integers\n",
    "my_list1 = [1,2, \"Hello World\",3,4,5] #mixed data type list\n",
    "my_list_n = [\"Hello\", [1,2,3]] #nested list"
   ]
  },
  {
   "cell_type": "code",
   "execution_count": 8,
   "metadata": {},
   "outputs": [
    {
     "name": "stdout",
     "output_type": "stream",
     "text": [
      "I have 4 items to purchase.\n",
      "These items are::ML-CLASS apple : orange : mango : carrot : "
     ]
    }
   ],
   "source": [
    "shopping = ['apple','orange', 'mango', 'carrot']\n",
    "print ('I have', len(shopping), 'items to purchase.')\n",
    "\n",
    "print ('These items are:', end=':ML-CLASS ') #be default print goes to new line to print in same line use \"END\" \n",
    "\n",
    "for item in shopping:\n",
    "    print (item, end=' : ') \n",
    "    \n",
    "# By default python’s print() function ends with a newline. \n",
    "# how to print without newline.\n",
    "\n",
    "# Python’s print() function comes with a parameter called ‘end’. \n",
    "# By default, the value of this parameter is ‘\\n’, i.e. the new line character. \n",
    "# You can end a print statement with any character/string using this parameter.\n",
    "# ends the output with a <space> "
   ]
  },
  {
   "cell_type": "code",
   "execution_count": 21,
   "metadata": {},
   "outputs": [
    {
     "name": "stdout",
     "output_type": "stream",
     "text": [
      "Welcome to: Python Class\n"
     ]
    }
   ],
   "source": [
    "#another example\n",
    "\n",
    "print ('Welcome to', end=': ')\n",
    "print ('Python Class')"
   ]
  },
  {
   "cell_type": "code",
   "execution_count": 25,
   "metadata": {},
   "outputs": [
    {
     "name": "stdout",
     "output_type": "stream",
     "text": [
      "['apple', 'orange', 'mango', 'carrot', 'rice', 'rice', 'rice', 'rice']\n"
     ]
    }
   ],
   "source": [
    "#append list\n",
    "shopping.append('rice')\n",
    "print (shopping)"
   ]
  },
  {
   "cell_type": "code",
   "execution_count": 27,
   "metadata": {},
   "outputs": [
    {
     "name": "stdout",
     "output_type": "stream",
     "text": [
      "['apple', 'orange', 'mango', 'carrot', 'rice']\n"
     ]
    }
   ],
   "source": [
    "shopping.remove('rice')\n",
    "print (shopping)"
   ]
  },
  {
   "cell_type": "code",
   "execution_count": 15,
   "metadata": {},
   "outputs": [
    {
     "name": "stdout",
     "output_type": "stream",
     "text": [
      "['apple', 'new item', 'mango', 'carrot', 'table', 'chair', 'pen']\n"
     ]
    }
   ],
   "source": [
    "shopping.extend(['table', 'chair', 'pen'])\n",
    "print (shopping)"
   ]
  },
  {
   "cell_type": "code",
   "execution_count": 16,
   "metadata": {},
   "outputs": [
    {
     "name": "stdout",
     "output_type": "stream",
     "text": [
      "['a', 'b', 'c']\n",
      "<class 'list'>\n",
      "['apple', 'new item', 'mango', 'carrot', 'table', 'chair', 'pen', 'a', 'b', 'c']\n"
     ]
    }
   ],
   "source": [
    "shopping1=['a','b','c']\n",
    "print (shopping1)\n",
    "shopping_new=shopping+shopping1\n",
    "print (type (shopping_new))\n",
    "print(shopping_new)"
   ]
  },
  {
   "cell_type": "code",
   "execution_count": 39,
   "metadata": {},
   "outputs": [
    {
     "name": "stdout",
     "output_type": "stream",
     "text": [
      "apple\n",
      "p\n"
     ]
    }
   ],
   "source": [
    "#access list\n",
    "\n",
    "print (shopping[0])\n",
    "print (shopping [0][1])"
   ]
  },
  {
   "cell_type": "code",
   "execution_count": 46,
   "metadata": {},
   "outputs": [
    {
     "name": "stdout",
     "output_type": "stream",
     "text": [
      "pen\n",
      "chair\n",
      "p\n"
     ]
    }
   ],
   "source": [
    "#Negative indexing\n",
    "# Python allows negative indexing for its sequences. \n",
    "# The index of -1 refers to the last item, -2 to the second last item and so on.\n",
    "print (shopping[-1])\n",
    "print (shopping [-5])\n",
    "print (shopping [-1][0])"
   ]
  },
  {
   "cell_type": "code",
   "execution_count": 55,
   "metadata": {},
   "outputs": [
    {
     "name": "stdout",
     "output_type": "stream",
     "text": [
      "['apple', 'orange', 'mango']\n",
      "['mango', 'carrot', 'rice', 'table', 'chair', 'pen', 'table', 'chair', 'pen']\n",
      "['apple', 'orange', 'mango', 'carrot', 'rice', 'table', 'chair', 'pen', 'table', 'chair', 'pen']\n"
     ]
    }
   ],
   "source": [
    "# slicing of list\n",
    "print (shopping [:3]) #element beginning to 3rd\n",
    "print (shopping[2:]) #element leaving first two element\n",
    "print (shopping[:]) #element all "
   ]
  },
  {
   "cell_type": "code",
   "execution_count": 17,
   "metadata": {},
   "outputs": [
    {
     "name": "stdout",
     "output_type": "stream",
     "text": [
      "Need to sort the shopping\n",
      "the sorted shooping list: ['a', 'apple', 'b', 'c', 'carrot', 'chair', 'mango', 'new item', 'pen', 'table']\n"
     ]
    }
   ],
   "source": [
    "# sort the list\n",
    "print ('Need to sort the shopping')\n",
    "shopping_new.sort() # sorting cannot  be done if the list has integer and string value\n",
    "print ('the sorted shooping list:', shopping_new)"
   ]
  },
  {
   "cell_type": "code",
   "execution_count": 21,
   "metadata": {},
   "outputs": [
    {
     "name": "stdout",
     "output_type": "stream",
     "text": [
      "['apple', 'new item', 'mango', 'carrot', 'table', 'chair', 'pen', 'rice']\n",
      "['apple', 'new item', 'mango', 'carrot', 'table', 'chair', 'pen', 'rice', 'rice']\n"
     ]
    }
   ],
   "source": [
    "#make changes to list\n",
    "print(shopping)\n",
    "shopping[1]=\"new item\"\n",
    "shopping[:]\n",
    "shopping.append(\"rice\")\n",
    "print (shopping)"
   ]
  },
  {
   "cell_type": "code",
   "execution_count": 22,
   "metadata": {},
   "outputs": [
    {
     "name": "stdout",
     "output_type": "stream",
     "text": [
      "The first item on list apple\n",
      "I brought apple\n",
      "my remaining shopping list ['new item', 'mango', 'carrot', 'table', 'chair', 'pen', 'rice', 'rice']\n"
     ]
    }
   ],
   "source": [
    "#delete item from list\n",
    "\n",
    "print ('The first item on list', shopping[0])\n",
    "olditem = shopping[0]\n",
    "\n",
    "del shopping[0]\n",
    "print('I brought', olditem)\n",
    "print ('my remaining shopping list', shopping)"
   ]
  },
  {
   "cell_type": "code",
   "execution_count": 23,
   "metadata": {},
   "outputs": [
    {
     "data": {
      "text/plain": [
       "'\\nappend() - Add an element to the end of the list\\nextend() - Add all elements of a list to the another list\\ninsert() - Insert an item at the defined index\\nremove() - Removes an item from the list\\npop() - Removes and returns an element at the given index\\nclear() - Removes all items from the list\\nindex() - Returns the index of the first matched item\\ncount() - Returns the count of number of items passed as an argument\\nsort() - Sort items in a list in ascending order\\nreverse() - Reverse the order of items in the list\\ncopy() - Returns a shallow copy of the list\\n'"
      ]
     },
     "execution_count": 23,
     "metadata": {},
     "output_type": "execute_result"
    }
   ],
   "source": [
    "# Python List Methods\n",
    "# Methods that are available with list object \n",
    "\n",
    "# Are accessed as list.method(). \n",
    "'''\n",
    "append() - Add an element to the end of the list\n",
    "extend() - Add all elements of a list to the another list\n",
    "insert() - Insert an item at the defined index\n",
    "remove() - Removes an item from the list\n",
    "pop() - Removes and returns an element at the given index\n",
    "clear() - Removes all items from the list\n",
    "index() - Returns the index of the first matched item\n",
    "count() - Returns the count of number of items passed as an argument\n",
    "sort() - Sort items in a list in ascending order\n",
    "reverse() - Reverse the order of items in the list\n",
    "copy() - Returns a shallow copy of the list\n",
    "'''"
   ]
  },
  {
   "cell_type": "code",
   "execution_count": 25,
   "metadata": {},
   "outputs": [
    {
     "name": "stdout",
     "output_type": "stream",
     "text": [
      "[1, 2, 4, 8, 16, 32, 64, 128, 256, 512]\n"
     ]
    }
   ],
   "source": [
    "#create list of\n",
    "\n",
    "powerList = []\n",
    "for x in range(10):\n",
    "    powerList.append (2**x)\n",
    "print (powerList)"
   ]
  },
  {
   "cell_type": "code",
   "execution_count": 29,
   "metadata": {},
   "outputs": [
    {
     "name": "stdout",
     "output_type": "stream",
     "text": [
      "[1, 2, 4, 8, 16, 32, 64, 128, 256, 512]\n"
     ]
    }
   ],
   "source": [
    "powerlist =[2**x for x in range(10)]\n",
    "print (powerlist)"
   ]
  },
  {
   "cell_type": "code",
   "execution_count": 31,
   "metadata": {},
   "outputs": [
    {
     "name": "stdout",
     "output_type": "stream",
     "text": [
      "0:1:2:3:4:5:6:7:8:9:"
     ]
    }
   ],
   "source": [
    "for x in range (10):\n",
    "    print (x, end =':')"
   ]
  },
  {
   "cell_type": "code",
   "execution_count": 37,
   "metadata": {},
   "outputs": [
    {
     "name": "stdout",
     "output_type": "stream",
     "text": [
      "I want new item\n",
      "I want mango\n",
      "I want carrot\n",
      "I want table\n",
      "I want chair\n",
      "I want pen\n",
      "I want rice\n",
      "I want rice\n"
     ]
    }
   ],
   "source": [
    "for itemlist in shopping:\n",
    "    print ('I want', itemlist)"
   ]
  },
  {
   "cell_type": "markdown",
   "metadata": {},
   "source": [
    "# BUILD IN FUNCTION IN LIST"
   ]
  },
  {
   "cell_type": "code",
   "execution_count": null,
   "metadata": {},
   "outputs": [],
   "source": [
    "'''\n",
    "Built-in Functions with List\n",
    "all()\tReturn True if all elements of the list are true \n",
    "        (or if the list is empty).\n",
    "any()\tReturn True if any element of the list is true. \n",
    "        If the list is empty, return False.\n",
    "enumerate()\tReturn an enumerate object. It contains the index \n",
    "            and value of all the items of list as a tuple.\n",
    "len()\tReturn the length (the number of items) in the list.\n",
    "list()\tConvert an iterable (tuple, string, set, dictionary) to a list.\n",
    "max()\tReturn the largest item in the list.\n",
    "min()\tReturn the smallest item in the list\n",
    "sorted()\tReturn a new sorted list (does not sort the list itself).\n",
    "sum()\tReturn the sum of all elements in the list.\n",
    "'''"
   ]
  },
  {
   "cell_type": "code",
   "execution_count": 45,
   "metadata": {},
   "outputs": [
    {
     "name": "stdout",
     "output_type": "stream",
     "text": [
      "False\n",
      "True\n"
     ]
    }
   ],
   "source": [
    "lst =[1,2,3, False]\n",
    "print (all (lst))\n",
    "print (any (lst))"
   ]
  },
  {
   "cell_type": "code",
   "execution_count": 42,
   "metadata": {},
   "outputs": [
    {
     "data": {
      "text/plain": [
       "False"
      ]
     },
     "execution_count": 42,
     "metadata": {},
     "output_type": "execute_result"
    }
   ],
   "source": [
    "str=[]\n",
    "any (str)"
   ]
  },
  {
   "cell_type": "code",
   "execution_count": 51,
   "metadata": {},
   "outputs": [
    {
     "name": "stdout",
     "output_type": "stream",
     "text": [
      "[(50, 1), (51, 2), (52, 3), (53, False)]\n"
     ]
    }
   ],
   "source": [
    "print (list (enumerate (lst,50)))"
   ]
  },
  {
   "cell_type": "code",
   "execution_count": 50,
   "metadata": {},
   "outputs": [
    {
     "name": "stdout",
     "output_type": "stream",
     "text": [
      "[(0, 'bread'), (1, 'milk'), (2, 'butter')]\n"
     ]
    }
   ],
   "source": [
    "# enumerate()\n",
    "grocery = ['bread', 'milk', 'butter']\n",
    "\n",
    "enumerateGrocery = enumerate(grocery)\n",
    "\n",
    "print(list(enumerateGrocery))"
   ]
  },
  {
   "cell_type": "code",
   "execution_count": 60,
   "metadata": {},
   "outputs": [
    {
     "name": "stdout",
     "output_type": "stream",
     "text": [
      "carrot\n",
      "['bread', 'milk', 'butter']\n",
      "<enumerate object at 0x10ffcc320>\n",
      "[]\n"
     ]
    }
   ],
   "source": [
    "# Looping Over an Enumerate object\n",
    "for item in enumerateGrocery:\n",
    "    print(item)\n",
    "print (item)\n",
    "print (grocery)\n",
    "print (enumerateGrocery) #### ?????\n",
    "print (list (enumerateGrocery))"
   ]
  },
  {
   "cell_type": "code",
   "execution_count": 61,
   "metadata": {},
   "outputs": [
    {
     "data": {
      "text/plain": [
       "'milk'"
      ]
     },
     "execution_count": 61,
     "metadata": {},
     "output_type": "execute_result"
    }
   ],
   "source": [
    "max (grocery)"
   ]
  },
  {
   "cell_type": "code",
   "execution_count": 62,
   "metadata": {},
   "outputs": [
    {
     "data": {
      "text/plain": [
       "'bread'"
      ]
     },
     "execution_count": 62,
     "metadata": {},
     "output_type": "execute_result"
    }
   ],
   "source": [
    "min (grocery)"
   ]
  },
  {
   "cell_type": "code",
   "execution_count": 63,
   "metadata": {},
   "outputs": [
    {
     "data": {
      "text/plain": [
       "['bread', 'butter', 'milk']"
      ]
     },
     "execution_count": 63,
     "metadata": {},
     "output_type": "execute_result"
    }
   ],
   "source": [
    "sorted (grocery)"
   ]
  },
  {
   "cell_type": "code",
   "execution_count": 66,
   "metadata": {},
   "outputs": [
    {
     "ename": "TypeError",
     "evalue": "unsupported operand type(s) for +: 'int' and 'str'",
     "output_type": "error",
     "traceback": [
      "\u001b[0;31m---------------------------------------------------------------------------\u001b[0m",
      "\u001b[0;31mTypeError\u001b[0m                                 Traceback (most recent call last)",
      "\u001b[0;32m<ipython-input-66-e10a836236d4>\u001b[0m in \u001b[0;36m<module>\u001b[0;34m\u001b[0m\n\u001b[0;32m----> 1\u001b[0;31m \u001b[0msum\u001b[0m \u001b[0;34m(\u001b[0m\u001b[0mshopping1\u001b[0m\u001b[0;34m)\u001b[0m\u001b[0;34m\u001b[0m\u001b[0;34m\u001b[0m\u001b[0m\n\u001b[0m",
      "\u001b[0;31mTypeError\u001b[0m: unsupported operand type(s) for +: 'int' and 'str'"
     ]
    }
   ],
   "source": [
    "sum (shopping1)"
   ]
  },
  {
   "cell_type": "code",
   "execution_count": null,
   "metadata": {},
   "outputs": [],
   "source": []
  }
 ],
 "metadata": {
  "kernelspec": {
   "display_name": "Python 3",
   "language": "python",
   "name": "python3"
  },
  "language_info": {
   "codemirror_mode": {
    "name": "ipython",
    "version": 3
   },
   "file_extension": ".py",
   "mimetype": "text/x-python",
   "name": "python",
   "nbconvert_exporter": "python",
   "pygments_lexer": "ipython3",
   "version": "3.7.4"
  }
 },
 "nbformat": 4,
 "nbformat_minor": 2
}
