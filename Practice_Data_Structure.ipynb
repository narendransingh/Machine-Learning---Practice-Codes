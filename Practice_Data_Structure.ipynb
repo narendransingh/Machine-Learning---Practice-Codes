{
 "cells": [
  {
   "cell_type": "markdown",
   "metadata": {},
   "source": [
    "# PRACTICE LIST"
   ]
  },
  {
   "cell_type": "code",
   "execution_count": 4,
   "metadata": {},
   "outputs": [
    {
     "data": {
      "text/plain": [
       "list"
      ]
     },
     "execution_count": 4,
     "metadata": {},
     "output_type": "execute_result"
    }
   ],
   "source": [
    "my_list = [] # empty list\n",
    "type (my_list)"
   ]
  },
  {
   "cell_type": "code",
   "execution_count": 7,
   "metadata": {},
   "outputs": [],
   "source": [
    "my_list =[1,2,3] #list of integers\n",
    "my_list1 = [1,2, \"Hello World\",3,4,5] #mixed data type list\n",
    "my_list_n = [\"Hello\", [1,2,3]] #nested list"
   ]
  },
  {
   "cell_type": "code",
   "execution_count": 18,
   "metadata": {},
   "outputs": [
    {
     "name": "stdout",
     "output_type": "stream",
     "text": [
      "I have 4 items to purchase.\n",
      "These items are::ML-CLASS apple : orange : mango : carrot : "
     ]
    }
   ],
   "source": [
    "shopping = ['apple','orange', 'mango', 'carrot']\n",
    "print ('I have', len(shopping), 'items to purchase.')\n",
    "\n",
    "print ('These items are:', end=':ML-CLASS ') #be default print goes to new line to print in same line use \"END\" \n",
    "\n",
    "for item in shopping:\n",
    "    print (item, end=' : ') \n",
    "    \n",
    "# By default python’s print() function ends with a newline. \n",
    "# how to print without newline.\n",
    "\n",
    "# Python’s print() function comes with a parameter called ‘end’. \n",
    "# By default, the value of this parameter is ‘\\n’, i.e. the new line character. \n",
    "# You can end a print statement with any character/string using this parameter.\n",
    "# ends the output with a <space> "
   ]
  },
  {
   "cell_type": "code",
   "execution_count": 21,
   "metadata": {},
   "outputs": [
    {
     "name": "stdout",
     "output_type": "stream",
     "text": [
      "Welcome to: Python Class\n"
     ]
    }
   ],
   "source": [
    "#another example\n",
    "\n",
    "print ('Welcome to', end=': ')\n",
    "print ('Python Class')"
   ]
  },
  {
   "cell_type": "code",
   "execution_count": 25,
   "metadata": {},
   "outputs": [
    {
     "name": "stdout",
     "output_type": "stream",
     "text": [
      "['apple', 'orange', 'mango', 'carrot', 'rice', 'rice', 'rice', 'rice']\n"
     ]
    }
   ],
   "source": [
    "#append list\n",
    "shopping.append('rice')\n",
    "print (shopping)"
   ]
  },
  {
   "cell_type": "code",
   "execution_count": 27,
   "metadata": {},
   "outputs": [
    {
     "name": "stdout",
     "output_type": "stream",
     "text": [
      "['apple', 'orange', 'mango', 'carrot', 'rice']\n"
     ]
    }
   ],
   "source": [
    "shopping.remove('rice')\n",
    "print (shopping)"
   ]
  },
  {
   "cell_type": "code",
   "execution_count": 30,
   "metadata": {},
   "outputs": [
    {
     "name": "stdout",
     "output_type": "stream",
     "text": [
      "['apple', 'orange', 'mango', 'carrot', 'rice', 'table', 'chair', 'pen', 'table', 'chair', 'pen']\n"
     ]
    }
   ],
   "source": [
    "shopping.extend(['table', 'chair', 'pen'])\n",
    "print (shopping)"
   ]
  },
  {
   "cell_type": "code",
   "execution_count": 68,
   "metadata": {},
   "outputs": [
    {
     "name": "stdout",
     "output_type": "stream",
     "text": [
      "['a', 'b', 'c']\n",
      "<class 'list'>\n",
      "['apple', 'carrot', 'chair', 'chair', 'mango', 'orange', 'pen', 'pen', 'rice', 'table', 'table', 'a', 'b', 'c']\n"
     ]
    }
   ],
   "source": [
    "shopping1=['a','b','c']\n",
    "print (shopping1)\n",
    "shopping_new=shopping+shopping1\n",
    "print (type (shopping_new))\n",
    "print(shopping_new)"
   ]
  },
  {
   "cell_type": "code",
   "execution_count": 39,
   "metadata": {},
   "outputs": [
    {
     "name": "stdout",
     "output_type": "stream",
     "text": [
      "apple\n",
      "p\n"
     ]
    }
   ],
   "source": [
    "#access list\n",
    "\n",
    "print (shopping[0])\n",
    "print (shopping [0][1])"
   ]
  },
  {
   "cell_type": "code",
   "execution_count": 46,
   "metadata": {},
   "outputs": [
    {
     "name": "stdout",
     "output_type": "stream",
     "text": [
      "pen\n",
      "chair\n",
      "p\n"
     ]
    }
   ],
   "source": [
    "#Negative indexing\n",
    "# Python allows negative indexing for its sequences. \n",
    "# The index of -1 refers to the last item, -2 to the second last item and so on.\n",
    "print (shopping[-1])\n",
    "print (shopping [-5])\n",
    "print (shopping [-1][0])"
   ]
  },
  {
   "cell_type": "code",
   "execution_count": 55,
   "metadata": {},
   "outputs": [
    {
     "name": "stdout",
     "output_type": "stream",
     "text": [
      "['apple', 'orange', 'mango']\n",
      "['mango', 'carrot', 'rice', 'table', 'chair', 'pen', 'table', 'chair', 'pen']\n",
      "['apple', 'orange', 'mango', 'carrot', 'rice', 'table', 'chair', 'pen', 'table', 'chair', 'pen']\n"
     ]
    }
   ],
   "source": [
    "# slicing of list\n",
    "print (shopping [:3]) #element beginning to 3rd\n",
    "print (shopping[2:]) #element leaving first two element\n",
    "print (shopping[:]) #element all "
   ]
  },
  {
   "cell_type": "code",
   "execution_count": 71,
   "metadata": {},
   "outputs": [
    {
     "name": "stdout",
     "output_type": "stream",
     "text": [
      "Need to sort the shopping\n",
      "the sorted shooping list: ['a', 'apple', 'b', 'c', 'carrot', 'chair', 'chair', 'mango', 'orange', 'pen', 'pen', 'rice', 'table', 'table']\n"
     ]
    }
   ],
   "source": [
    "# sort the list\n",
    "print ('Need to sort the shopping')\n",
    "shopping_new.sort() # sorting cannot  be done if the list has integer and string value\n",
    "print ('the sorted shooping list:', shopping_new)"
   ]
  },
  {
   "cell_type": "code",
   "execution_count": null,
   "metadata": {},
   "outputs": [],
   "source": [
    "#"
   ]
  }
 ],
 "metadata": {
  "kernelspec": {
   "display_name": "Python 3",
   "language": "python",
   "name": "python3"
  },
  "language_info": {
   "codemirror_mode": {
    "name": "ipython",
    "version": 3
   },
   "file_extension": ".py",
   "mimetype": "text/x-python",
   "name": "python",
   "nbconvert_exporter": "python",
   "pygments_lexer": "ipython3",
   "version": "3.7.4"
  }
 },
 "nbformat": 4,
 "nbformat_minor": 2
}
